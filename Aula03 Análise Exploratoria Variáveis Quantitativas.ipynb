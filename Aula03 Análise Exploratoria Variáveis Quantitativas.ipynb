{
 "cells": [
  {
   "cell_type": "markdown",
   "metadata": {},
   "source": [
    "___\n",
    "# Análise Exploratória: Variáveis quantitativas\n",
    "___\n",
    "\n",
    "## Aula 03\n",
    "\n",
    "\n",
    "**Links Úteis:**\n",
    "1.\tLeitura prévia necessária: Magalhães e Lima (7ª. Edição): pág. 9 a 16 – destacando para variáveis qualitativas.\n",
    "2.\t10 Minutes to Pandas: http://pandas.pydata.org/pandas-docs/stable/10min.html\n",
    "3.\tEssential Basic Functionality: http://pandas.pydata.org/pandas-docs/stable/basics.html\n",
    "\n",
    "**Hoje:**\n",
    "1. Explorar também as variáveis quantitativas do caso: Previsão de Risco de Inadimplência (Risco de Crédito) do Bank Loan. \n",
    "2. Construir tabelas de frequências e interpretar resultados considerando variáveis quantitativas de forma univariada e de forma cruzada com uma variável qualitativa. \n",
    "4. Explicar vantagens e desvantagens sobre o uso da frequência ou da densidade na construção de um histograma e saber interpretá-lo. \n",
    "5. Desenvolver contas para obtenção de mediana ou outros quantis a partir de tabelas de frequências. \n",
    "6. Fechamento do conteúdo.\n",
    "\n",
    "\n",
    "**Próxima aula:**\n",
    "1. Leitura prévia necessária: Magalhães e Lima (7ª. Edição): pág. 18 a 26; pág. 116 e 117 (Definição 4.4 e Exemplo 4.8). \n",
    "___\n"
   ]
  },
  {
   "cell_type": "markdown",
   "metadata": {},
   "source": [
    "## <font color='blue'>Empresa de TV</font>\n",
    "\n",
    "Uma empresa de TV via satélite criou recentemente dois tipos de planos de canais (A e B).\n",
    "\n",
    "A empresa tem como objetivo estudar o perfil dos clientes que aderiram ao plano para enviar malas diretas aos potenciais clientes de cada tipo de plano.\n",
    "\n",
    "A base de dados apresenta algumas variáveis para uma amostra de 82 clientes selecionados aleatoriamente dentre aqueles que aderiram aos planos. As variáveis têm os seguintes significados:\n",
    "\n",
    "* CLIENTE: identificador do cliente.\n",
    "* PLANO: apresenta o plano adquirido pelo cliente, A ou B. \n",
    "* EC: apresenta estado civil do cliente no momento da adesão ao plano, Casado, Solteiro e Outros.\n",
    "* SATISFACAO: grau de satisfação do cliente pelo plano,  Muito satisfeito, Satisfeito, Indiferente, Insatisfeito e Muito insatisfeito.\n",
    "* RENDA: renda pessoal do cliente, em milhares de reais.\n",
    "\n",
    "O arquivo `EmpresaTV.xls` contém as variáveis descritas acima.\n",
    "\n",
    "Faça uma análise exploratória apenas da variável quantitativa com foco no objetivo da empresa.\n",
    "Desenvolver as seguintes visualizações e resultados.\n",
    "\n",
    "1. Tabela de frequências, gráfico de colunas (bar) e histograma.\n",
    "2. Refazer segmentando por Plano.\n",
    "3. Calcule as medidas de posição (média, mediana e moda) a partir dos dados. \n",
    "4. Repetir item anterior obtendo a partir dos histogramas.\n",
    "\n"
   ]
  },
  {
   "cell_type": "code",
   "execution_count": 1,
   "metadata": {
    "collapsed": false
   },
   "outputs": [],
   "source": [
    "%matplotlib inline\n",
    "import pandas as pd\n",
    "import matplotlib.pyplot as plt\n",
    "import os\n",
    "from numpy import arange"
   ]
  },
  {
   "cell_type": "code",
   "execution_count": 2,
   "metadata": {
    "collapsed": false
   },
   "outputs": [
    {
     "name": "stdout",
     "output_type": "stream",
     "text": [
      "Esperamos trabalhar no diretório\n",
      "C:\\Users\\Patrick dos Santos\\Downloads\n"
     ]
    }
   ],
   "source": [
    "print('Esperamos trabalhar no diretório')\n",
    "print(os.getcwd())"
   ]
  },
  {
   "cell_type": "code",
   "execution_count": 3,
   "metadata": {
    "collapsed": false
   },
   "outputs": [],
   "source": [
    "dados = pd.read_excel('EmpresaTV.xlsx')"
   ]
  },
  {
   "cell_type": "code",
   "execution_count": 33,
   "metadata": {
    "collapsed": false
   },
   "outputs": [
    {
     "ename": "AttributeError",
     "evalue": "'DataFrame' object has no attribute 'L1800'",
     "output_type": "error",
     "traceback": [
      "\u001b[1;31m---------------------------------------------------------------------------\u001b[0m",
      "\u001b[1;31mAttributeError\u001b[0m                            Traceback (most recent call last)",
      "\u001b[1;32m<ipython-input-33-6dbfa421b7dc>\u001b[0m in \u001b[0;36m<module>\u001b[1;34m()\u001b[0m\n\u001b[0;32m      1\u001b[0m \u001b[1;31m#Selecionando variável renda\u001b[0m\u001b[1;33m\u001b[0m\u001b[1;33m\u001b[0m\u001b[0m\n\u001b[1;32m----> 2\u001b[1;33m \u001b[0mrenda\u001b[0m \u001b[1;33m=\u001b[0m \u001b[0mdados\u001b[0m\u001b[1;33m.\u001b[0m\u001b[0mL1800\u001b[0m\u001b[1;33m\u001b[0m\u001b[0m\n\u001b[0m",
      "\u001b[1;32mC:\\Users\\Patrick dos Santos\\AppData\\Local\\Continuum\\Anaconda3\\lib\\site-packages\\pandas\\core\\generic.py\u001b[0m in \u001b[0;36m__getattr__\u001b[1;34m(self, name)\u001b[0m\n\u001b[0;32m   2667\u001b[0m             \u001b[1;32mif\u001b[0m \u001b[0mname\u001b[0m \u001b[1;32min\u001b[0m \u001b[0mself\u001b[0m\u001b[1;33m.\u001b[0m\u001b[0m_info_axis\u001b[0m\u001b[1;33m:\u001b[0m\u001b[1;33m\u001b[0m\u001b[0m\n\u001b[0;32m   2668\u001b[0m                 \u001b[1;32mreturn\u001b[0m \u001b[0mself\u001b[0m\u001b[1;33m[\u001b[0m\u001b[0mname\u001b[0m\u001b[1;33m]\u001b[0m\u001b[1;33m\u001b[0m\u001b[0m\n\u001b[1;32m-> 2669\u001b[1;33m             \u001b[1;32mreturn\u001b[0m \u001b[0mobject\u001b[0m\u001b[1;33m.\u001b[0m\u001b[0m__getattribute__\u001b[0m\u001b[1;33m(\u001b[0m\u001b[0mself\u001b[0m\u001b[1;33m,\u001b[0m \u001b[0mname\u001b[0m\u001b[1;33m)\u001b[0m\u001b[1;33m\u001b[0m\u001b[0m\n\u001b[0m\u001b[0;32m   2670\u001b[0m \u001b[1;33m\u001b[0m\u001b[0m\n\u001b[0;32m   2671\u001b[0m     \u001b[1;32mdef\u001b[0m \u001b[0m__setattr__\u001b[0m\u001b[1;33m(\u001b[0m\u001b[0mself\u001b[0m\u001b[1;33m,\u001b[0m \u001b[0mname\u001b[0m\u001b[1;33m,\u001b[0m \u001b[0mvalue\u001b[0m\u001b[1;33m)\u001b[0m\u001b[1;33m:\u001b[0m\u001b[1;33m\u001b[0m\u001b[0m\n",
      "\u001b[1;31mAttributeError\u001b[0m: 'DataFrame' object has no attribute 'L1800'"
     ]
    }
   ],
   "source": [
    "#Selecionando variável renda\n",
    "renda = dados.iloc[:,-1]"
   ]
  },
  {
   "cell_type": "code",
   "execution_count": null,
   "metadata": {
    "collapsed": false
   },
   "outputs": [],
   "source": [
    "renda.value_counts().head(15)\n"
   ]
  },
  {
   "cell_type": "markdown",
   "metadata": {},
   "source": [
    "___\n",
    "## Análise univariada  - Amplitudes iguais\n",
    "\n",
    "## Comparação dos PLANOS"
   ]
  },
  {
   "cell_type": "code",
   "execution_count": 6,
   "metadata": {
    "collapsed": false
   },
   "outputs": [
    {
     "data": {
      "text/plain": [
       "count    46.000000\n",
       "mean     10.421739\n",
       "std       4.465568\n",
       "min       0.700000\n",
       "25%       7.475000\n",
       "50%      10.350000\n",
       "75%      13.200000\n",
       "max      21.400000\n",
       "Name: RENDA, dtype: float64"
      ]
     },
     "execution_count": 6,
     "metadata": {},
     "output_type": "execute_result"
    }
   ],
   "source": [
    "#So PLANO A\n",
    "#Selecionando variável renda \n",
    "rendaA = dados.RENDA[dados.PLANO=='A']\n",
    "rendaA.describe()"
   ]
  },
  {
   "cell_type": "code",
   "execution_count": 7,
   "metadata": {
    "collapsed": false
   },
   "outputs": [
    {
     "data": {
      "text/plain": [
       "count    36.000000\n",
       "mean      5.688889\n",
       "std       3.293437\n",
       "min       0.600000\n",
       "25%       4.150000\n",
       "50%       5.150000\n",
       "75%       6.375000\n",
       "max      19.200000\n",
       "Name: RENDA, dtype: float64"
      ]
     },
     "execution_count": 7,
     "metadata": {},
     "output_type": "execute_result"
    }
   ],
   "source": [
    "#So PLANO B\n",
    "#Selecionando variável renda \n",
    "rendaB = dados.RENDA[dados.PLANO=='B']\n",
    "rendaB.describe()"
   ]
  },
  {
   "cell_type": "code",
   "execution_count": 8,
   "metadata": {
    "collapsed": false
   },
   "outputs": [],
   "source": [
    "#faixa = arange(0.3,25,3.13)\n",
    "faixa = arange(0.5,25,3.5)"
   ]
  },
  {
   "cell_type": "code",
   "execution_count": 9,
   "metadata": {
    "collapsed": false
   },
   "outputs": [
    {
     "name": "stdout",
     "output_type": "stream",
     "text": [
      "Frequências relativas:\n",
      "[0.5, 4)       6.5\n",
      "[4, 7.5)      19.6\n",
      "[7.5, 11)     32.6\n",
      "[11, 14.5)    26.1\n",
      "[14.5, 18)    10.9\n",
      "[18, 21.5)     4.3\n",
      "dtype: float64 \n",
      "\n"
     ]
    }
   ],
   "source": [
    "# Tabelas univariada - PLANO A\n",
    "rendaAcat = pd.cut(rendaA, faixa, False)\n",
    "print('Frequências relativas:')\n",
    "ut1 = (rendaAcat.value_counts(True)*100).round(decimals=1).reindex(['[0.5, 4)', '[4, 7.5)', '[7.5, 11)', '[11, 14.5)',\n",
    "                                                               '[14.5, 18)', '[18, 21.5)'])\n",
    "print(ut1,'\\n')"
   ]
  },
  {
   "cell_type": "markdown",
   "metadata": {},
   "source": [
    "#### *PARA VISUALIZAR QUE AS CATEGORIAS DA RENDA FORAM CRIADAS CORRETAMENTE!*"
   ]
  },
  {
   "cell_type": "code",
   "execution_count": 10,
   "metadata": {
    "collapsed": false
   },
   "outputs": [
    {
     "data": {
      "text/html": [
       "<div>\n",
       "<table border=\"1\" class=\"dataframe\">\n",
       "  <thead>\n",
       "    <tr style=\"text-align: right;\">\n",
       "      <th></th>\n",
       "      <th>RENDA</th>\n",
       "      <th>RENDA</th>\n",
       "    </tr>\n",
       "  </thead>\n",
       "  <tbody>\n",
       "    <tr>\n",
       "      <th>0</th>\n",
       "      <td>21.4</td>\n",
       "      <td>[18, 21.5)</td>\n",
       "    </tr>\n",
       "    <tr>\n",
       "      <th>1</th>\n",
       "      <td>17.2</td>\n",
       "      <td>[14.5, 18)</td>\n",
       "    </tr>\n",
       "    <tr>\n",
       "      <th>2</th>\n",
       "      <td>15.6</td>\n",
       "      <td>[14.5, 18)</td>\n",
       "    </tr>\n",
       "    <tr>\n",
       "      <th>3</th>\n",
       "      <td>10.4</td>\n",
       "      <td>[7.5, 11)</td>\n",
       "    </tr>\n",
       "    <tr>\n",
       "      <th>4</th>\n",
       "      <td>17.6</td>\n",
       "      <td>[14.5, 18)</td>\n",
       "    </tr>\n",
       "    <tr>\n",
       "      <th>5</th>\n",
       "      <td>9.8</td>\n",
       "      <td>[7.5, 11)</td>\n",
       "    </tr>\n",
       "    <tr>\n",
       "      <th>6</th>\n",
       "      <td>13.5</td>\n",
       "      <td>[11, 14.5)</td>\n",
       "    </tr>\n",
       "    <tr>\n",
       "      <th>7</th>\n",
       "      <td>7.8</td>\n",
       "      <td>[7.5, 11)</td>\n",
       "    </tr>\n",
       "    <tr>\n",
       "      <th>8</th>\n",
       "      <td>14.4</td>\n",
       "      <td>[11, 14.5)</td>\n",
       "    </tr>\n",
       "    <tr>\n",
       "      <th>9</th>\n",
       "      <td>11.2</td>\n",
       "      <td>[11, 14.5)</td>\n",
       "    </tr>\n",
       "    <tr>\n",
       "      <th>10</th>\n",
       "      <td>13.2</td>\n",
       "      <td>[11, 14.5)</td>\n",
       "    </tr>\n",
       "    <tr>\n",
       "      <th>11</th>\n",
       "      <td>7.4</td>\n",
       "      <td>[4, 7.5)</td>\n",
       "    </tr>\n",
       "    <tr>\n",
       "      <th>12</th>\n",
       "      <td>7.7</td>\n",
       "      <td>[7.5, 11)</td>\n",
       "    </tr>\n",
       "    <tr>\n",
       "      <th>13</th>\n",
       "      <td>9.2</td>\n",
       "      <td>[7.5, 11)</td>\n",
       "    </tr>\n",
       "    <tr>\n",
       "      <th>14</th>\n",
       "      <td>10</td>\n",
       "      <td>[7.5, 11)</td>\n",
       "    </tr>\n",
       "    <tr>\n",
       "      <th>15</th>\n",
       "      <td>12.9</td>\n",
       "      <td>[11, 14.5)</td>\n",
       "    </tr>\n",
       "    <tr>\n",
       "      <th>16</th>\n",
       "      <td>9.4</td>\n",
       "      <td>[7.5, 11)</td>\n",
       "    </tr>\n",
       "    <tr>\n",
       "      <th>17</th>\n",
       "      <td>10.3</td>\n",
       "      <td>[7.5, 11)</td>\n",
       "    </tr>\n",
       "    <tr>\n",
       "      <th>18</th>\n",
       "      <td>14.8</td>\n",
       "      <td>[14.5, 18)</td>\n",
       "    </tr>\n",
       "    <tr>\n",
       "      <th>19</th>\n",
       "      <td>16.7</td>\n",
       "      <td>[14.5, 18)</td>\n",
       "    </tr>\n",
       "    <tr>\n",
       "      <th>20</th>\n",
       "      <td>9.3</td>\n",
       "      <td>[7.5, 11)</td>\n",
       "    </tr>\n",
       "    <tr>\n",
       "      <th>21</th>\n",
       "      <td>7.4</td>\n",
       "      <td>[4, 7.5)</td>\n",
       "    </tr>\n",
       "    <tr>\n",
       "      <th>22</th>\n",
       "      <td>12.4</td>\n",
       "      <td>[11, 14.5)</td>\n",
       "    </tr>\n",
       "    <tr>\n",
       "      <th>23</th>\n",
       "      <td>7</td>\n",
       "      <td>[4, 7.5)</td>\n",
       "    </tr>\n",
       "    <tr>\n",
       "      <th>24</th>\n",
       "      <td>6.8</td>\n",
       "      <td>[4, 7.5)</td>\n",
       "    </tr>\n",
       "    <tr>\n",
       "      <th>25</th>\n",
       "      <td>9.9</td>\n",
       "      <td>[7.5, 11)</td>\n",
       "    </tr>\n",
       "    <tr>\n",
       "      <th>26</th>\n",
       "      <td>6.1</td>\n",
       "      <td>[4, 7.5)</td>\n",
       "    </tr>\n",
       "    <tr>\n",
       "      <th>27</th>\n",
       "      <td>11.5</td>\n",
       "      <td>[11, 14.5)</td>\n",
       "    </tr>\n",
       "    <tr>\n",
       "      <th>28</th>\n",
       "      <td>10.8</td>\n",
       "      <td>[7.5, 11)</td>\n",
       "    </tr>\n",
       "    <tr>\n",
       "      <th>29</th>\n",
       "      <td>0.8</td>\n",
       "      <td>[0.5, 4)</td>\n",
       "    </tr>\n",
       "    <tr>\n",
       "      <th>30</th>\n",
       "      <td>8.9</td>\n",
       "      <td>[7.5, 11)</td>\n",
       "    </tr>\n",
       "    <tr>\n",
       "      <th>31</th>\n",
       "      <td>6</td>\n",
       "      <td>[4, 7.5)</td>\n",
       "    </tr>\n",
       "    <tr>\n",
       "      <th>32</th>\n",
       "      <td>0.7</td>\n",
       "      <td>[0.5, 4)</td>\n",
       "    </tr>\n",
       "    <tr>\n",
       "      <th>33</th>\n",
       "      <td>8.4</td>\n",
       "      <td>[7.5, 11)</td>\n",
       "    </tr>\n",
       "    <tr>\n",
       "      <th>34</th>\n",
       "      <td>13.2</td>\n",
       "      <td>[11, 14.5)</td>\n",
       "    </tr>\n",
       "    <tr>\n",
       "      <th>35</th>\n",
       "      <td>10.7</td>\n",
       "      <td>[7.5, 11)</td>\n",
       "    </tr>\n",
       "    <tr>\n",
       "      <th>36</th>\n",
       "      <td>11.2</td>\n",
       "      <td>[11, 14.5)</td>\n",
       "    </tr>\n",
       "    <tr>\n",
       "      <th>37</th>\n",
       "      <td>18.5</td>\n",
       "      <td>[18, 21.5)</td>\n",
       "    </tr>\n",
       "    <tr>\n",
       "      <th>38</th>\n",
       "      <td>12.9</td>\n",
       "      <td>[11, 14.5)</td>\n",
       "    </tr>\n",
       "    <tr>\n",
       "      <th>39</th>\n",
       "      <td>5.3</td>\n",
       "      <td>[4, 7.5)</td>\n",
       "    </tr>\n",
       "    <tr>\n",
       "      <th>40</th>\n",
       "      <td>4.7</td>\n",
       "      <td>[4, 7.5)</td>\n",
       "    </tr>\n",
       "    <tr>\n",
       "      <th>41</th>\n",
       "      <td>6</td>\n",
       "      <td>[4, 7.5)</td>\n",
       "    </tr>\n",
       "    <tr>\n",
       "      <th>42</th>\n",
       "      <td>10.7</td>\n",
       "      <td>[7.5, 11)</td>\n",
       "    </tr>\n",
       "    <tr>\n",
       "      <th>43</th>\n",
       "      <td>1.9</td>\n",
       "      <td>[0.5, 4)</td>\n",
       "    </tr>\n",
       "    <tr>\n",
       "      <th>44</th>\n",
       "      <td>14</td>\n",
       "      <td>[11, 14.5)</td>\n",
       "    </tr>\n",
       "    <tr>\n",
       "      <th>45</th>\n",
       "      <td>13.8</td>\n",
       "      <td>[11, 14.5)</td>\n",
       "    </tr>\n",
       "  </tbody>\n",
       "</table>\n",
       "</div>"
      ],
      "text/plain": [
       "   RENDA       RENDA\n",
       "0   21.4  [18, 21.5)\n",
       "1   17.2  [14.5, 18)\n",
       "2   15.6  [14.5, 18)\n",
       "3   10.4   [7.5, 11)\n",
       "4   17.6  [14.5, 18)\n",
       "5    9.8   [7.5, 11)\n",
       "6   13.5  [11, 14.5)\n",
       "7    7.8   [7.5, 11)\n",
       "8   14.4  [11, 14.5)\n",
       "9   11.2  [11, 14.5)\n",
       "10  13.2  [11, 14.5)\n",
       "11   7.4    [4, 7.5)\n",
       "12   7.7   [7.5, 11)\n",
       "13   9.2   [7.5, 11)\n",
       "14    10   [7.5, 11)\n",
       "15  12.9  [11, 14.5)\n",
       "16   9.4   [7.5, 11)\n",
       "17  10.3   [7.5, 11)\n",
       "18  14.8  [14.5, 18)\n",
       "19  16.7  [14.5, 18)\n",
       "20   9.3   [7.5, 11)\n",
       "21   7.4    [4, 7.5)\n",
       "22  12.4  [11, 14.5)\n",
       "23     7    [4, 7.5)\n",
       "24   6.8    [4, 7.5)\n",
       "25   9.9   [7.5, 11)\n",
       "26   6.1    [4, 7.5)\n",
       "27  11.5  [11, 14.5)\n",
       "28  10.8   [7.5, 11)\n",
       "29   0.8    [0.5, 4)\n",
       "30   8.9   [7.5, 11)\n",
       "31     6    [4, 7.5)\n",
       "32   0.7    [0.5, 4)\n",
       "33   8.4   [7.5, 11)\n",
       "34  13.2  [11, 14.5)\n",
       "35  10.7   [7.5, 11)\n",
       "36  11.2  [11, 14.5)\n",
       "37  18.5  [18, 21.5)\n",
       "38  12.9  [11, 14.5)\n",
       "39   5.3    [4, 7.5)\n",
       "40   4.7    [4, 7.5)\n",
       "41     6    [4, 7.5)\n",
       "42  10.7   [7.5, 11)\n",
       "43   1.9    [0.5, 4)\n",
       "44    14  [11, 14.5)\n",
       "45  13.8  [11, 14.5)"
      ]
     },
     "execution_count": 10,
     "metadata": {},
     "output_type": "execute_result"
    }
   ],
   "source": [
    "pd.DataFrame([rendaA,rendaAcat]).T"
   ]
  },
  {
   "cell_type": "markdown",
   "metadata": {},
   "source": [
    "### NUNCA POR HIPÓTESE ALGUMA FAZER O GRÁFICO ABAIXO PARA UMA VARIÁVEL QUANTITATIVA CONTÍNUA OK!!\n",
    "\n",
    "### POR QUÊ??"
   ]
  },
  {
   "cell_type": "code",
   "execution_count": 11,
   "metadata": {
    "collapsed": false
   },
   "outputs": [
    {
     "data": {
      "text/plain": [
       "<matplotlib.text.Text at 0x1f520da1860>"
      ]
     },
     "execution_count": 11,
     "metadata": {},
     "output_type": "execute_result"
    },
    {
     "data": {
      "image/png": "[encoded data removed]",
      "text/plain": [
       "<matplotlib.figure.Figure at 0x1f520d8b2e8>"
      ]
     },
     "metadata": {},
     "output_type": "display_data"
    }
   ],
   "source": [
    "#ERRADO!!!!\n",
    "#NUNCA POR HIPÓTESE ALGUMA FAZER UM GRÁFICO DESSES COM UMA VARIÁVEL QUANTITATIVA CONTÍNUA OK!!\n",
    "\n",
    "plot = ut1.plot(kind='bar',title='RENDA - PLANO A',figsize=(6, 6),color=('b'))\n",
    "plt.ylabel('Freq.Relativa (em %)')\n",
    "plt.xlabel('renda')"
   ]
  },
  {
   "cell_type": "code",
   "execution_count": 12,
   "metadata": {
    "collapsed": false
   },
   "outputs": [
    {
     "data": {
      "text/plain": [
       "<matplotlib.text.Text at 0x1f521654fd0>"
      ]
     },
     "execution_count": 12,
     "metadata": {},
     "output_type": "execute_result"
    },
    {
     "data": {
      "image/png": "[encoded data removed]",
      "text/plain": [
       "<matplotlib.figure.Figure at 0x1f520e2b400>"
      ]
     },
     "metadata": {},
     "output_type": "display_data"
    }
   ],
   "source": [
    "# Gráfico de colunas com frequência absoluta\n",
    "plot = rendaA.plot.hist(bins=faixa,title='´GRAFICO DE COLUNAS - PLANO A', figsize=(6, 6), alpha=0.5)\n",
    "plt.ylabel('Frequência absoluta')\n",
    "plt.xlabel('renda (em mil reais)')"
   ]
  },
  {
   "cell_type": "code",
   "execution_count": 13,
   "metadata": {
    "collapsed": false
   },
   "outputs": [
    {
     "data": {
      "text/plain": [
       "<matplotlib.text.Text at 0x1f52167d518>"
      ]
     },
     "execution_count": 13,
     "metadata": {},
     "output_type": "execute_result"
    },
    {
     "data": {
      "image/png": "[encoded data removed]",
      "text/plain": [
       "<matplotlib.figure.Figure at 0x1f5216919e8>"
      ]
     },
     "metadata": {},
     "output_type": "display_data"
    }
   ],
   "source": [
    "# Gráfico de colunas\n",
    "from numpy import zeros_like\n",
    "plot = rendaA.plot.hist(bins=faixa,title='´GRAFICO DE COLUNAS - PLANO A', weights=zeros_like(rendaA)+1./rendaA.size*100, figsize=(6, 6), alpha=0.5)\n",
    "plt.ylabel('Frequência relativa (em %)')\n",
    "plt.xlabel('renda (em mil reais)')"
   ]
  },
  {
   "cell_type": "code",
   "execution_count": 14,
   "metadata": {
    "collapsed": false
   },
   "outputs": [
    {
     "data": {
      "text/plain": [
       "<matplotlib.text.Text at 0x1f5216ffc18>"
      ]
     },
     "execution_count": 14,
     "metadata": {},
     "output_type": "execute_result"
    },
    {
     "data": {
      "image/png": "[encoded data removed]",
      "text/plain": [
       "<matplotlib.figure.Figure at 0x1f521759908>"
      ]
     },
     "metadata": {},
     "output_type": "display_data"
    }
   ],
   "source": [
    "# Histograma\n",
    "plot = rendaA.plot.hist(bins=faixa,title='HISTOGRAMA - PLANO A',figsize=(6, 6), normed=1, alpha=0.5)\n",
    "plt.ylabel('Densidade')\n",
    "plt.xlabel('renda (em mil reais)')"
   ]
  },
  {
   "cell_type": "code",
   "execution_count": 15,
   "metadata": {
    "collapsed": false
   },
   "outputs": [
    {
     "data": {
      "text/plain": [
       "count    36.000000\n",
       "mean      5.688889\n",
       "std       3.293437\n",
       "min       0.600000\n",
       "25%       4.150000\n",
       "50%       5.150000\n",
       "75%       6.375000\n",
       "max      19.200000\n",
       "Name: RENDA, dtype: float64"
      ]
     },
     "execution_count": 15,
     "metadata": {},
     "output_type": "execute_result"
    }
   ],
   "source": [
    "#So PLANO B\n",
    "#Selecionando variável renda \n",
    "rendaB = dados.RENDA[dados.PLANO=='B']\n",
    "rendaB.describe()"
   ]
  },
  {
   "cell_type": "code",
   "execution_count": 16,
   "metadata": {
    "collapsed": false
   },
   "outputs": [
    {
     "name": "stdout",
     "output_type": "stream",
     "text": [
      "Frequências relativas:\n",
      "[0.5, 4)      22.2\n",
      "[4, 7.5)      55.6\n",
      "[7.5, 11)     19.4\n",
      "[11, 14.5)     0.0\n",
      "[14.5, 18)     0.0\n",
      "[18, 21.5)     2.8\n",
      "dtype: float64 \n",
      "\n"
     ]
    }
   ],
   "source": [
    "# Tabelas univariada - PLANO B\n",
    "rendaBcat = pd.cut(rendaB, faixa, False)\n",
    "print('Frequências relativas:')\n",
    "ut2 = (rendaBcat.value_counts(True)*100).round(decimals=1).reindex(['[0.5, 4)', '[4, 7.5)', '[7.5, 11)', '[11, 14.5)',\n",
    "                                                               '[14.5, 18)', '[18, 21.5)'])\n",
    "print(ut2,'\\n')"
   ]
  },
  {
   "cell_type": "code",
   "execution_count": 17,
   "metadata": {
    "collapsed": false
   },
   "outputs": [
    {
     "data": {
      "text/plain": [
       "<matplotlib.text.Text at 0x1f5217c6978>"
      ]
     },
     "execution_count": 17,
     "metadata": {},
     "output_type": "execute_result"
    },
    {
     "data": {
      "image/png": "[encoded data removed]",
      "text/plain": [
       "<matplotlib.figure.Figure at 0x1f52177c4e0>"
      ]
     },
     "metadata": {},
     "output_type": "display_data"
    }
   ],
   "source": [
    "# Gráfico de colunas\n",
    "from numpy import zeros_like\n",
    "plot = rendaB.plot.hist(bins=faixa,title='GRAFICO DE COLUNAS - PLANO B', weights=zeros_like(rendaB)+1./rendaB.size*100, figsize=(6, 6), alpha=0.5, color='cyan')\n",
    "plt.ylabel('Frequência relativa (em %)')\n",
    "plt.xlabel('renda (em mil reais)')"
   ]
  },
  {
   "cell_type": "code",
   "execution_count": 18,
   "metadata": {
    "collapsed": false
   },
   "outputs": [
    {
     "data": {
      "text/plain": [
       "<matplotlib.text.Text at 0x1f5217e9fd0>"
      ]
     },
     "execution_count": 18,
     "metadata": {},
     "output_type": "execute_result"
    },
    {
     "data": {
      "image/png": "[encoded data removed]",
      "text/plain": [
       "<matplotlib.figure.Figure at 0x1f521789fd0>"
      ]
     },
     "metadata": {},
     "output_type": "display_data"
    }
   ],
   "source": [
    "# Histograma\n",
    "plot = rendaB.plot.hist(bins=faixa,title='HISTOGRAMA - PLANO B',figsize=(6, 6), normed=1, alpha=0.5, color='cyan')\n",
    "plt.ylabel('Densidade')\n",
    "plt.xlabel('renda (em mil reais)')"
   ]
  },
  {
   "cell_type": "markdown",
   "metadata": {},
   "source": [
    "___\n",
    "## Análise univariada  - Amplitudes desiguais"
   ]
  },
  {
   "cell_type": "code",
   "execution_count": 19,
   "metadata": {
    "collapsed": true
   },
   "outputs": [],
   "source": [
    "faixa2 = (0,2,6,10,12,18,22)"
   ]
  },
  {
   "cell_type": "code",
   "execution_count": 20,
   "metadata": {
    "collapsed": false
   },
   "outputs": [],
   "source": [
    "#Plano A\n",
    "rendaAcat2 = pd.cut(rendaA, faixa2, right=False)"
   ]
  },
  {
   "cell_type": "code",
   "execution_count": 21,
   "metadata": {
    "collapsed": false
   },
   "outputs": [
    {
     "name": "stdout",
     "output_type": "stream",
     "text": [
      "Frequências relativas:\n",
      "[0, 2)       6.5\n",
      "[2, 6)       4.3\n",
      "[6, 10)     34.8\n",
      "[10, 12)    19.6\n",
      "[12, 18)    30.4\n",
      "[18, 22)     4.3\n",
      "dtype: float64 \n",
      "\n"
     ]
    }
   ],
   "source": [
    "# Tabelas univariada - PLANO A\n",
    "print('Frequências relativas:')\n",
    "ut3 = (rendaAcat2.value_counts(True)*100).round(decimals=1).reindex(['[0, 2)', '[2, 6)', '[6, 10)', '[10, 12)',\n",
    "                                                               '[12, 18)', '[18, 22)'])\n",
    "print(ut3,'\\n')"
   ]
  },
  {
   "cell_type": "code",
   "execution_count": 22,
   "metadata": {
    "collapsed": false
   },
   "outputs": [
    {
     "data": {
      "text/plain": [
       "<matplotlib.text.Text at 0x1f52280dc88>"
      ]
     },
     "execution_count": 22,
     "metadata": {},
     "output_type": "execute_result"
    },
    {
     "data": {
      "image/png": "[encoded data removed]",
      "text/plain": [
       "<matplotlib.figure.Figure at 0x1f5228777b8>"
      ]
     },
     "metadata": {},
     "output_type": "display_data"
    }
   ],
   "source": [
    "# Gráfico de barras PLANO A\n",
    "from numpy import zeros_like\n",
    "plot = rendaA.plot.hist(bins=faixa2, title='GRAFICO DE COLUNAS - PLANO A', weights=zeros_like(rendaA)+1./rendaA.size*100, figsize=(6, 6), alpha=0.5)\n",
    "plt.ylabel('Frequência relativa (em %)')\n",
    "plt.xlabel('renda (em mil reais)')"
   ]
  },
  {
   "cell_type": "code",
   "execution_count": 23,
   "metadata": {
    "collapsed": false
   },
   "outputs": [
    {
     "data": {
      "text/plain": [
       "<matplotlib.text.Text at 0x1f5228a2128>"
      ]
     },
     "execution_count": 23,
     "metadata": {},
     "output_type": "execute_result"
    },
    {
     "data": {
      "image/png": "[encoded data removed]",
      "text/plain": [
       "<matplotlib.figure.Figure at 0x1f5228fc630>"
      ]
     },
     "metadata": {},
     "output_type": "display_data"
    }
   ],
   "source": [
    "# Histograma - PLANO A\n",
    "plot = rendaA.plot.hist(bins=faixa2,title='HISTOGRAMA - PLANO A',figsize=(6, 6), normed=1, alpha=0.5)\n",
    "plt.ylabel('Densidade')\n",
    "plt.xlabel('renda (em mil reais)')"
   ]
  },
  {
   "cell_type": "code",
   "execution_count": 24,
   "metadata": {
    "collapsed": true
   },
   "outputs": [],
   "source": [
    "#Plano B\n",
    "rendaBcat2 = pd.cut(rendaB, faixa2, right=False)"
   ]
  },
  {
   "cell_type": "code",
   "execution_count": 25,
   "metadata": {
    "collapsed": false
   },
   "outputs": [
    {
     "name": "stdout",
     "output_type": "stream",
     "text": [
      "Frequências relativas:\n",
      "[0, 2)       5.6\n",
      "[2, 6)      66.7\n",
      "[6, 10)     19.4\n",
      "[10, 12)     5.6\n",
      "[12, 18)     0.0\n",
      "[18, 22)     2.8\n",
      "dtype: float64 \n",
      "\n"
     ]
    }
   ],
   "source": [
    "# Tabelas univariada - PLANO B\n",
    "print('Frequências relativas:')\n",
    "ut4 = (rendaBcat2.value_counts(True)*100).round(decimals=1).reindex(['[0, 2)', '[2, 6)', '[6, 10)', '[10, 12)',\n",
    "                                                               '[12, 18)', '[18, 22)'])\n",
    "print(ut4,'\\n')\n"
   ]
  },
  {
   "cell_type": "code",
   "execution_count": 26,
   "metadata": {
    "collapsed": false
   },
   "outputs": [
    {
     "data": {
      "text/plain": [
       "<matplotlib.text.Text at 0x1f52287c780>"
      ]
     },
     "execution_count": 26,
     "metadata": {},
     "output_type": "execute_result"
    },
    {
     "data": {
      "image/png": "[encoded data removed]",
      "text/plain": [
       "<matplotlib.figure.Figure at 0x1f5229630f0>"
      ]
     },
     "metadata": {},
     "output_type": "display_data"
    }
   ],
   "source": [
    "# Histograma - PLANO B\n",
    "plot = rendaB.plot.hist(bins=faixa2,title='HISTOGRAMA - PLANO B',figsize=(6, 6), normed=1, alpha=0.5, color='cyan')\n",
    "plt.ylabel('Densidade')\n",
    "plt.xlabel('renda (em mil reais)')"
   ]
  },
  {
   "cell_type": "code",
   "execution_count": 27,
   "metadata": {
    "collapsed": false
   },
   "outputs": [
    {
     "data": {
      "text/plain": [
       "<matplotlib.legend.Legend at 0x1f52292f828>"
      ]
     },
     "execution_count": 27,
     "metadata": {},
     "output_type": "execute_result"
    },
    {
     "data": {
      "image/png": "[encoded data removed]",
      "text/plain": [
       "<matplotlib.figure.Figure at 0x1f52292f908>"
      ]
     },
     "metadata": {},
     "output_type": "display_data"
    }
   ],
   "source": [
    "# Histograma\n",
    "plot = rendaA.plot.hist(bins=faixa2,title='HISTOGRAMA - PLANOS A e B',figsize=(6, 6), normed=1, alpha=0.5)\n",
    "plot = rendaB.plot.hist(bins=faixa2,figsize=(6, 6), normed=1, alpha=0.5, color='cyan')\n",
    "plt.ylabel('Densidade')\n",
    "plt.xlabel('renda (em mil reais)')\n",
    "plt.legend(('A','B'))"
   ]
  },
  {
   "cell_type": "markdown",
   "metadata": {},
   "source": [
    "___\n",
    "## Medidas de posíção - a partir da amostra"
   ]
  },
  {
   "cell_type": "markdown",
   "metadata": {},
   "source": [
    "### *Via comando*"
   ]
  },
  {
   "cell_type": "code",
   "execution_count": 28,
   "metadata": {
    "collapsed": false
   },
   "outputs": [
    {
     "name": "stdout",
     "output_type": "stream",
     "text": [
      "Renda Média do Plano A: 10.421739130434778\n",
      "Renda Média do Plano B: 5.688888888888889\n",
      "Renda Mediana do Plano A: 10.350000000000001\n",
      "Renda Mediana do Plano B: 5.15\n"
     ]
    }
   ],
   "source": [
    "\n",
    "print('Renda Média do Plano A:', rendaA.mean())\n",
    "print('Renda Média do Plano B:', rendaB.mean())\n",
    "\n",
    "print('Renda Mediana do Plano A:', rendaA.median())\n",
    "print('Renda Mediana do Plano B:', rendaB.median())"
   ]
  },
  {
   "cell_type": "markdown",
   "metadata": {},
   "source": [
    "### *Via fórmula*"
   ]
  },
  {
   "cell_type": "code",
   "execution_count": 29,
   "metadata": {
    "collapsed": false
   },
   "outputs": [
    {
     "name": "stdout",
     "output_type": "stream",
     "text": [
      "46\n"
     ]
    }
   ],
   "source": [
    "#Plano A\n",
    "nA=len(rendaA)\n",
    "print(nA)"
   ]
  },
  {
   "cell_type": "code",
   "execution_count": 30,
   "metadata": {
    "collapsed": false
   },
   "outputs": [
    {
     "name": "stdout",
     "output_type": "stream",
     "text": [
      "10.35\n"
     ]
    }
   ],
   "source": [
    "#Mediana no PLANO A\n",
    "#Lembrar que iloc começa de zero\n",
    "medA=(pd.DataFrame(rendaA.sort_values()).iloc[22,0]+pd.DataFrame(rendaA.sort_values()).iloc[23,0])/2\n",
    "print(medA)"
   ]
  },
  {
   "cell_type": "code",
   "execution_count": 31,
   "metadata": {
    "collapsed": false
   },
   "outputs": [
    {
     "name": "stdout",
     "output_type": "stream",
     "text": [
      "10.421739130434778\n"
     ]
    }
   ],
   "source": [
    "#Média no PLANO A\n",
    "mediaA=rendaA.sum()/nA\n",
    "print(mediaA)"
   ]
  },
  {
   "cell_type": "code",
   "execution_count": 32,
   "metadata": {
    "collapsed": true
   },
   "outputs": [],
   "source": [
    "#Plano B\n",
    "\n",
    "#??"
   ]
  },
  {
   "cell_type": "code",
   "execution_count": null,
   "metadata": {
    "collapsed": true
   },
   "outputs": [],
   "source": []
  },
  {
   "cell_type": "code",
   "execution_count": null,
   "metadata": {
    "collapsed": true
   },
   "outputs": [],
   "source": []
  }
 ],
 "metadata": {
  "anaconda-cloud": {},
  "kernelspec": {
   "display_name": "Python 3",
   "language": "python",
   "name": "python3"
  },
  "language_info": {
   "codemirror_mode": {
    "name": "ipython",
    "version": 3
   },
   "file_extension": ".py",
   "mimetype": "text/x-python",
   "name": "python",
   "nbconvert_exporter": "python",
   "pygments_lexer": "ipython3",
   "version": "3.5.1"
  }
 },
 "nbformat": 4,
 "nbformat_minor": 0
}
